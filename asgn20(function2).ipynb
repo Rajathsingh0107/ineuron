{
 "cells": [
  {
   "cell_type": "code",
   "execution_count": 3,
   "id": "1c3ee771",
   "metadata": {},
   "outputs": [
    {
     "name": "stdout",
     "output_type": "stream",
     "text": [
      "enter no of num:2\n",
      "enter elements:2\n",
      "enter elements:2\n",
      "[2]\n"
     ]
    }
   ],
   "source": [
    "\"\"\"Write a python program to create a function that takes a list and returns a new list\n",
    "with the original list's unique elements.\"\"\"\n",
    "a=int(input(\"enter no of num:\"))\n",
    "l=[]\n",
    "for i in range(a):\n",
    "    b=int(input(\"enter elements:\"))\n",
    "    l.append(b)\n",
    "def f1(a):\n",
    "    c=set(l)\n",
    "    d=list(c)\n",
    "    print(d)\n",
    "f1(l)\n"
   ]
  },
  {
   "cell_type": "code",
   "execution_count": 40,
   "id": "76d5c1f7",
   "metadata": {},
   "outputs": [
    {
     "name": "stdout",
     "output_type": "stream",
     "text": [
      "enter num:4\n",
      "not prime\n"
     ]
    }
   ],
   "source": [
    "\"\"\"Write a python program to create a function that takes a number as a parameter and\n",
    "checks if the number is prime or not.\"\"\"\n",
    "n=int(input(\"enter num:\"))\n",
    "def f1(a):\n",
    "    if n==2:\n",
    "            print(\"prime\")\n",
    "    for i in range(2,n):\n",
    "        if n%i==0:\n",
    "            print(\"not prime\")\n",
    "            break\n",
    "        else:\n",
    "            print(\"prime\")\n",
    "            break\n",
    "f1(n)\n",
    "    "
   ]
  },
  {
   "cell_type": "code",
   "execution_count": 38,
   "id": "e7bc1da7",
   "metadata": {},
   "outputs": [
    {
     "name": "stdout",
     "output_type": "stream",
     "text": [
      "[2, 4, 6, 8]\n"
     ]
    }
   ],
   "source": [
    "\"\"\"Write a python program to create a function that prints the even numbers from a\n",
    "given list.\n",
    "Sample List : [1, 2, 3, 4, 5, 6, 7, 8, 9]\"\"\"\n",
    "l=[1, 2, 3, 4, 5, 6, 7, 8, 9]\n",
    "li=[]\n",
    "def f1(a):\n",
    "    for i in l:\n",
    "        if i%2==0:\n",
    "            li.append(i)\n",
    "    print(li)\n",
    "f1(l)\n",
    "            "
   ]
  },
  {
   "cell_type": "code",
   "execution_count": null,
   "id": "334f483d",
   "metadata": {},
   "outputs": [],
   "source": [
    "\"\"\"Write a python program to create a function that checks whether a passed string is\n",
    "palindrome or not.\"\"\"\n",
    "def f1(a):\n",
    "    a=input(\"enter name:\")\n",
    "    rev=a[::-1]\n",
    "    if a==rev:\n",
    "        print(\"palindrome\")\n",
    "    else:\n",
    "        print(\"not\")\n",
    "f1(a)"
   ]
  },
  {
   "cell_type": "code",
   "execution_count": 13,
   "id": "f7ac4bd7",
   "metadata": {},
   "outputs": [
    {
     "name": "stdout",
     "output_type": "stream",
     "text": [
      "1st num:2\n",
      "2nd num:4\n",
      "3rd num:5\n",
      "2\n"
     ]
    }
   ],
   "source": [
    "\"\"\"Write a python program to create a function to find the Min of three numbers.\"\"\"\n",
    "a,b,c=int(input(\"1st num:\")),int(input(\"2nd num:\")),int(input(\"3rd num:\"))\n",
    "def f1(a,b,c):\n",
    "    list=[]\n",
    "    list.append(a)\n",
    "    list.append(b)\n",
    "    list.append(c)\n",
    "    print(min(list))\n",
    "f1(a,b,c)\n",
    "\n",
    "\n",
    "    "
   ]
  },
  {
   "cell_type": "code",
   "execution_count": 16,
   "id": "4d4273ad",
   "metadata": {},
   "outputs": [
    {
     "name": "stdout",
     "output_type": "stream",
     "text": [
      "[1, 4, 9, 16, 25, 36, 49, 64, 81, 100, 121, 144, 169, 196, 225, 256, 289, 324, 361, 400, 441, 484, 529, 576, 625, 676, 729, 784, 841, 900]\n"
     ]
    }
   ],
   "source": [
    "\"\"\"Write a python program to create a function and print a list where the values are\n",
    "square of numbers between 1 and 30.\"\"\"\n",
    "def f1():\n",
    "    l=[]\n",
    "    for i in range(1,30+1):\n",
    "        i=i*i\n",
    "        l.append(i)\n",
    "    print(l)\n",
    "f1()"
   ]
  },
  {
   "cell_type": "code",
   "execution_count": 13,
   "id": "c279228e",
   "metadata": {},
   "outputs": [
    {
     "name": "stdout",
     "output_type": "stream",
     "text": [
      "enter table:5\n",
      "enter range:4\n",
      "5\n",
      "10\n",
      "15\n",
      "20\n"
     ]
    },
    {
     "data": {
      "text/plain": [
       "7"
      ]
     },
     "execution_count": 13,
     "metadata": {},
     "output_type": "execute_result"
    }
   ],
   "source": [
    "\"\"\"Write a python program to access a function inside a function.\"\"\"\n",
    "#method1\n",
    "def f1():\n",
    "    a=int(input(\"enter table:\"))\n",
    "    return a\n",
    "def f2(a):\n",
    "    ran=f1()\n",
    "    b=int(input(\"enter range:\"))\n",
    "    for i in range(1,b+1):\n",
    "        c=i*ran\n",
    "        print(c)\n",
    "f2(4)\n",
    "\n",
    "#method2\n",
    "def greater(a,b):\n",
    "    if a>b:\n",
    "        return a\n",
    "    return b\n",
    "\n",
    "def g1(a,b,c):\n",
    "    big=greater(a,b)\n",
    "    return greater(big,c)\n",
    "g1(5,6,7)"
   ]
  },
  {
   "cell_type": "code",
   "execution_count": 5,
   "id": "6b03fa56",
   "metadata": {},
   "outputs": [
    {
     "name": "stdout",
     "output_type": "stream",
     "text": [
      "enter string:Raj\n",
      "upper case letters: 1 and lower case letters: 2\n"
     ]
    }
   ],
   "source": [
    "\"\"\"Write a python program to create a function that accepts a string and calculate the\n",
    "number of upper case letters and lower case letters.\"\"\"\n",
    "a=input(\"enter string:\")\n",
    "def f1(a):\n",
    "    up=0\n",
    "    lo=0\n",
    "    for i in a:\n",
    "        if i.isupper():\n",
    "            up+=1\n",
    "        elif i.islower():\n",
    "            lo+=1\n",
    "    print(\"upper case letters: %d and lower case letters: %d\"%(up,lo))\n",
    "f1(a)"
   ]
  },
  {
   "cell_type": "code",
   "execution_count": 19,
   "id": "b9b8b41e",
   "metadata": {},
   "outputs": [
    {
     "name": "stdout",
     "output_type": "stream",
     "text": [
      "enter string:The quick brown fox jumps over the lazy dog\n",
      "pangram\n"
     ]
    }
   ],
   "source": [
    "\"\"\"Write a python program to create a function to check whether a string is a pangram\n",
    "or not.\"\"\"\n",
    "a=input(\"enter string:\")\n",
    "def f1(a):\n",
    "    import string\n",
    "    lower=set(string.ascii_lowercase)\n",
    "    \n",
    "    return lower<=set(a)\n",
    "\n",
    "if f1(a):\n",
    "    print(\"pangram\")\n",
    "else:\n",
    "    print(\"not\")\n",
    "\n"
   ]
  },
  {
   "cell_type": "code",
   "execution_count": 18,
   "id": "6efe5b70",
   "metadata": {},
   "outputs": [
    {
     "name": "stdout",
     "output_type": "stream",
     "text": [
      "enter 1st stringra\n",
      "enter 2nd stringja\n",
      "not\n"
     ]
    }
   ],
   "source": [
    "\"\"\"Write a python program to create a function to check whether a string is an anagram\n",
    "or not.\"\"\"\n",
    "a,b=input(\"enter 1st string:\"),input(\"enter 2nd string:\")\n",
    "def f1(a,b):\n",
    "    if len(a)==len(b):\n",
    "        c=sorted(a)\n",
    "        d=sorted(b)\n",
    "        if c==d:\n",
    "            print(\"anagram\")\n",
    "        else:\n",
    "            print(\"not anagram\")\n",
    "f1(a,b)"
   ]
  },
  {
   "cell_type": "code",
   "execution_count": null,
   "id": "d17b762b",
   "metadata": {},
   "outputs": [],
   "source": []
  },
  {
   "cell_type": "code",
   "execution_count": null,
   "id": "5261d8a6",
   "metadata": {},
   "outputs": [],
   "source": []
  }
 ],
 "metadata": {
  "kernelspec": {
   "display_name": "Python 3 (ipykernel)",
   "language": "python",
   "name": "python3"
  },
  "language_info": {
   "codemirror_mode": {
    "name": "ipython",
    "version": 3
   },
   "file_extension": ".py",
   "mimetype": "text/x-python",
   "name": "python",
   "nbconvert_exporter": "python",
   "pygments_lexer": "ipython3",
   "version": "3.9.13"
  }
 },
 "nbformat": 4,
 "nbformat_minor": 5
}
