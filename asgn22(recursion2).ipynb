{
 "cells": [
  {
   "cell_type": "code",
   "execution_count": 4,
   "id": "04ea2e62",
   "metadata": {},
   "outputs": [
    {
     "name": "stdout",
     "output_type": "stream",
     "text": [
      "enter num:3\n"
     ]
    },
    {
     "data": {
      "text/plain": [
       "6"
      ]
     },
     "execution_count": 4,
     "metadata": {},
     "output_type": "execute_result"
    }
   ],
   "source": [
    "\"\"\"Write a recursive python function to calculate sum of first N natural numbers\"\"\"\n",
    "n=int(input(\"enter num:\"))\n",
    "def f1(n):\n",
    "    if n==1:\n",
    "        return 1\n",
    "    return n+f1(n-1) \n",
    "f1(n)\n",
    "        "
   ]
  },
  {
   "cell_type": "code",
   "execution_count": 5,
   "id": "2e9ea22b",
   "metadata": {},
   "outputs": [
    {
     "name": "stdout",
     "output_type": "stream",
     "text": [
      "enter num:3\n"
     ]
    },
    {
     "data": {
      "text/plain": [
       "4"
      ]
     },
     "execution_count": 5,
     "metadata": {},
     "output_type": "execute_result"
    }
   ],
   "source": [
    "\"\"\"Write a recursive python function to calculate sum of first N odd natural numbers\"\"\"\n",
    "n=int(input(\"enter num:\"))\n",
    "def f1(n):\n",
    "    if n==1:\n",
    "        return 1\n",
    "    return n+f1(n-2)\n",
    "f1(n)\n",
    "        "
   ]
  },
  {
   "cell_type": "code",
   "execution_count": 6,
   "id": "0fd4a6f6",
   "metadata": {},
   "outputs": [
    {
     "name": "stdout",
     "output_type": "stream",
     "text": [
      "enter num:3\n"
     ]
    },
    {
     "data": {
      "text/plain": [
       "12"
      ]
     },
     "execution_count": 6,
     "metadata": {},
     "output_type": "execute_result"
    }
   ],
   "source": [
    "\"\"\"Write a recursive python function to calculate sum of first N even natural numbers\"\"\"\n",
    "n=int(input(\"enter num:\"))\n",
    "def f1(n):\n",
    "    if n==1:\n",
    "        return 2\n",
    "    return 2*n+f1(n-1)\n",
    "f1(n)\n",
    "        "
   ]
  },
  {
   "cell_type": "code",
   "execution_count": 7,
   "id": "d47d8fd4",
   "metadata": {},
   "outputs": [
    {
     "name": "stdout",
     "output_type": "stream",
     "text": [
      "enter num:2\n"
     ]
    },
    {
     "data": {
      "text/plain": [
       "5"
      ]
     },
     "execution_count": 7,
     "metadata": {},
     "output_type": "execute_result"
    }
   ],
   "source": [
    "\"\"\"Write a recursive python function to calculate sum of squares of first N natural\n",
    "numbers\"\"\"\n",
    "n=int(input(\"enter num:\"))\n",
    "def f1(n):\n",
    "    if n==1:\n",
    "        return 1\n",
    "    return n**2+f1(n-1)\n",
    "f1(n)"
   ]
  },
  {
   "cell_type": "code",
   "execution_count": 8,
   "id": "df0a402d",
   "metadata": {},
   "outputs": [
    {
     "name": "stdout",
     "output_type": "stream",
     "text": [
      "enter num:2\n"
     ]
    },
    {
     "data": {
      "text/plain": [
       "9"
      ]
     },
     "execution_count": 8,
     "metadata": {},
     "output_type": "execute_result"
    }
   ],
   "source": [
    "\"\"\"Write a recursive python function to calculate sum of cubes of first N natural numbers\"\"\"\n",
    "n=int(input(\"enter num:\"))\n",
    "def f1(n):\n",
    "    if n==1:\n",
    "        return 1\n",
    "    return n**3+f1(n-1)\n",
    "f1(n)"
   ]
  },
  {
   "cell_type": "code",
   "execution_count": 9,
   "id": "6817d93b",
   "metadata": {},
   "outputs": [
    {
     "name": "stdout",
     "output_type": "stream",
     "text": [
      "enter num:3\n"
     ]
    },
    {
     "data": {
      "text/plain": [
       "6"
      ]
     },
     "execution_count": 9,
     "metadata": {},
     "output_type": "execute_result"
    }
   ],
   "source": [
    "\"\"\"Write a recursive python function to calculate the factorial of a number.\"\"\"\n",
    "n=int(input(\"enter num:\"))\n",
    "def f1(n):\n",
    "    if n==1:\n",
    "        return 1\n",
    "    return n*f1(n-1)\n",
    "f1(n)"
   ]
  },
  {
   "cell_type": "code",
   "execution_count": 3,
   "id": "7ab8a3ba",
   "metadata": {},
   "outputs": [
    {
     "name": "stdout",
     "output_type": "stream",
     "text": [
      "enter num:54\n"
     ]
    },
    {
     "data": {
      "text/plain": [
       "9"
      ]
     },
     "execution_count": 3,
     "metadata": {},
     "output_type": "execute_result"
    }
   ],
   "source": [
    "\"\"\"Write a recursive python function to calculate sum of the digits of a given number\"\"\"\n",
    "n=int(input(\"enter num:\"))\n",
    "def f1(n):\n",
    "    if n==0:\n",
    "        return 0\n",
    "    else:\n",
    "        return (n%10+f1(int(n/10)))\n",
    "f1(n)\n",
    "    \n",
    "    "
   ]
  },
  {
   "cell_type": "code",
   "execution_count": null,
   "id": "6f9147ef",
   "metadata": {},
   "outputs": [],
   "source": [
    "\"\"\"Write a recursive python function to print binary of a given decimal number.\"\"\"\n",
    "n=int(input(\"enter num:\"))\n",
    "def f1(n):\n",
    "    if n==0:\n",
    "        return \n",
    "    else:\n",
    "        f1(int(n/2))\n",
    "        print(n%2,end=\"\")\n",
    "    \n",
    "f1(n)\n",
    "    "
   ]
  },
  {
   "cell_type": "code",
   "execution_count": 15,
   "id": "39b8b258",
   "metadata": {},
   "outputs": [
    {
     "name": "stdout",
     "output_type": "stream",
     "text": [
      "enter num:100\n",
      "144"
     ]
    }
   ],
   "source": [
    "\"\"\"Write a recursive python function to print octal of a given decimal number\"\"\"\n",
    "n=int(input(\"enter num:\"))\n",
    "def f1(n):\n",
    "    if n==0:\n",
    "        return \n",
    "    else:\n",
    "        f1(int(n/8))\n",
    "        print(n%8,end=\"\")\n",
    "    \n",
    "f1(n)\n",
    "    "
   ]
  },
  {
   "cell_type": "code",
   "execution_count": 30,
   "id": "bbbd959f",
   "metadata": {},
   "outputs": [
    {
     "name": "stdout",
     "output_type": "stream",
     "text": [
      "enter num:13\n",
      "0 1 1 2 3 5 8 13 21 34 55 89 144 "
     ]
    }
   ],
   "source": [
    "\"\"\"Write a recursive python function to find the Nth term of the Fibonacci series\"\"\"\n",
    "def fib(n):\n",
    "    if n==0:\n",
    "        return 0\n",
    "    if n==1:\n",
    "        return 1\n",
    "    else:\n",
    "        return fib(n-1)+fib(n-2)\n",
    "    \n",
    "n=int(input(\"enter num:\"))\n",
    "for i in range(n):\n",
    "    print(fib(i),end=\" \")"
   ]
  },
  {
   "cell_type": "code",
   "execution_count": null,
   "id": "caf3b183",
   "metadata": {},
   "outputs": [],
   "source": []
  }
 ],
 "metadata": {
  "kernelspec": {
   "display_name": "Python 3 (ipykernel)",
   "language": "python",
   "name": "python3"
  },
  "language_info": {
   "codemirror_mode": {
    "name": "ipython",
    "version": 3
   },
   "file_extension": ".py",
   "mimetype": "text/x-python",
   "name": "python",
   "nbconvert_exporter": "python",
   "pygments_lexer": "ipython3",
   "version": "3.9.13"
  }
 },
 "nbformat": 4,
 "nbformat_minor": 5
}
