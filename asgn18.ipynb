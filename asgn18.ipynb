{
 "cells": [
  {
   "cell_type": "code",
   "execution_count": 17,
   "id": "9f1abfaf",
   "metadata": {},
   "outputs": [
    {
     "name": "stdout",
     "output_type": "stream",
     "text": [
      "{'name': 'raj', 'age': 21} <class 'dict'>\n",
      "{'a': 'raj', 'age': 21, 'r': '3'}\n"
     ]
    }
   ],
   "source": [
    "\"\"\"Write a python program to create and print a dictionary which stores your information.\n",
    "(name, age, gender .....)\"\"\"\n",
    "#method1\n",
    "a={\"name\":\"raj\",\"age\":21}\n",
    "print(a,type(a))\n",
    "#method2\n",
    "a=dict(a=\"raj\",age=21,r=\"3\")\n",
    "print(a)\n"
   ]
  },
  {
   "cell_type": "code",
   "execution_count": 27,
   "id": "6697d047",
   "metadata": {},
   "outputs": [
    {
     "name": "stdout",
     "output_type": "stream",
     "text": [
      "2 n\n",
      "21 age\n"
     ]
    }
   ],
   "source": [
    "\"\"\"Write a python program to access the items of a dictionary by referring to its key\n",
    "name.\"\"\"\n",
    "a={\"n\":2,\"age\":21}\n",
    "for i in a:\n",
    "    print(a[i],i)"
   ]
  },
  {
   "cell_type": "code",
   "execution_count": 9,
   "id": "d4c79a7d",
   "metadata": {},
   "outputs": [
    {
     "name": "stdout",
     "output_type": "stream",
     "text": [
      "n1\n",
      "n2\n",
      "n3\n"
     ]
    }
   ],
   "source": [
    "\"\"\"Write a python program to get a list of the values from a dictionary.\"\"\"\n",
    "a={\"n1\":1,\"n2\":21,\"n3\":3}\n",
    "for i in a:\n",
    "    print(i)"
   ]
  },
  {
   "cell_type": "code",
   "execution_count": 25,
   "id": "239c1503",
   "metadata": {},
   "outputs": [
    {
     "name": "stdout",
     "output_type": "stream",
     "text": [
      "{'name': 'raj', 'age': 3}\n"
     ]
    }
   ],
   "source": [
    "\"\"\"Write a python program to change the value of a specific item by referring to its key\n",
    "name.\"\"\"\n",
    "a={\"name\":\"raj\",\"age\":21}\n",
    "a[\"age\"]=3\n",
    "print(a)"
   ]
  },
  {
   "cell_type": "code",
   "execution_count": 10,
   "id": "54d58801",
   "metadata": {},
   "outputs": [
    {
     "name": "stdout",
     "output_type": "stream",
     "text": [
      "1\n",
      "21\n",
      "3\n"
     ]
    }
   ],
   "source": [
    "\"\"\"Write a python program to print all key names in the dictionary, one by one.\"\"\"\n",
    "a={\"n1\":1,\"n2\":21,\"n3\":3}\n",
    "for i in a:\n",
    "    print(a[i])"
   ]
  },
  {
   "cell_type": "code",
   "execution_count": 9,
   "id": "b8a21d5f",
   "metadata": {},
   "outputs": [
    {
     "name": "stdout",
     "output_type": "stream",
     "text": [
      "<class 'dict'>\n"
     ]
    }
   ],
   "source": [
    "\"\"\"Write a python program to create a dictionary that contains three dictionaries.\n",
    "(nested)\"\"\"\n",
    "r={\"a\":{1,2,3},\"b\":{4,5,6},\"c\":{7,8,9}}\n",
    "print(type(r))"
   ]
  },
  {
   "cell_type": "code",
   "execution_count": 8,
   "id": "107f9511",
   "metadata": {},
   "outputs": [
    {
     "name": "stdout",
     "output_type": "stream",
     "text": [
      "{1: 'jar', 2: 'jar', 3: 'jar', 4: 'car', 5: 'bar', 6: 'tar', 7: 'jam', 8: 'aam', 9: 'mam'}\n"
     ]
    }
   ],
   "source": [
    "\"\"\"Write a python program to create three dictionaries, then create one dictionary that\n",
    "will contain the other three dictionaries.\"\"\"\n",
    "a={1: 'jar', 2: 'jar', 3: 'jar'}\n",
    "b={4: 'car', 5: 'bar', 6: 'tar'}\n",
    "c={7: 'jam', 8: 'aam', 9: 'mam'}\n",
    "d={**a,**b,**c}\n",
    "print(d)"
   ]
  },
  {
   "cell_type": "code",
   "execution_count": 5,
   "id": "4b6ec4a8",
   "metadata": {},
   "outputs": [
    {
     "name": "stdout",
     "output_type": "stream",
     "text": [
      "{1: 'jar', 2: 'jar', 3: 'jar'}\n",
      "{1: 'raj', 2: 'taj', 3: 'jar'}\n"
     ]
    }
   ],
   "source": [
    "\"\"\"Write a python program to convert two lists into a dictionary in a way that item from\n",
    "list1 is the key and item from list2 is the value.\"\"\"\n",
    "#method1\n",
    "a=[1,2,3]\n",
    "b=[\"raj\",\"taj\",\"jar\"]\n",
    "c={}\n",
    "for i in a:\n",
    "    for j in b:\n",
    "        c[i]=j\n",
    "print(c)\n",
    "#method2\n",
    "a=[1,2,3]\n",
    "b=[\"raj\",\"taj\",\"jar\"]\n",
    "c=dict(zip(a,b))\n",
    "print(c)\n"
   ]
  },
  {
   "cell_type": "code",
   "execution_count": 3,
   "id": "7c965010",
   "metadata": {},
   "outputs": [
    {
     "name": "stdout",
     "output_type": "stream",
     "text": [
      "{'name': 'raj', 'age': 21, 'n1': 1, 'n2': 21, 'n3': 3}\n",
      "{'name': 'raj', 'age': 21, 'n1': 1, 'n2': 21, 'n3': 3}\n",
      "{'name': 'raj', 'age': 21, 'n1': 1, 'n2': 21, 'n3': 3}\n"
     ]
    }
   ],
   "source": [
    "\"\"\"Write a python program to merge two python dictionaries into one dictionary.\"\"\"\n",
    "#method1\n",
    "a={\"name\":\"raj\",\"age\":21}\n",
    "b={\"n1\":1,\"n2\":21,\"n3\":3}\n",
    "c=a.update(b)\n",
    "print(a)\n",
    "#method2\n",
    "a={\"name\":\"raj\",\"age\":21}\n",
    "b={\"n1\":1,\"n2\":21,\"n3\":3}\n",
    "dict3={**a,**b}\n",
    "print(dict3)\n",
    "\n",
    "#method3\n",
    "a={\"name\":\"raj\",\"age\":21}\n",
    "b={\"n1\":1,\"n2\":21,\"n3\":3}\n",
    "c=(a|b)\n",
    "print(c)\n"
   ]
  },
  {
   "cell_type": "code",
   "execution_count": 26,
   "id": "ac3a5849",
   "metadata": {},
   "outputs": [
    {
     "name": "stdout",
     "output_type": "stream",
     "text": [
      "66\n"
     ]
    }
   ],
   "source": [
    "\"\"\"10. Write a python program to get the key of lowest value from the dictionary.\n",
    "sample_dict = {'C': 92,'Java': 66,'Python': 85}\"\"\"\n",
    "sample_dict = {'C': 92,'Java': 66,'Python': 85}\n",
    "b=min(sample_dict[i] for i in sample_dict)\n",
    "print(b)"
   ]
  },
  {
   "cell_type": "code",
   "execution_count": null,
   "id": "ad1b3aff",
   "metadata": {},
   "outputs": [],
   "source": []
  }
 ],
 "metadata": {
  "kernelspec": {
   "display_name": "Python 3 (ipykernel)",
   "language": "python",
   "name": "python3"
  },
  "language_info": {
   "codemirror_mode": {
    "name": "ipython",
    "version": 3
   },
   "file_extension": ".py",
   "mimetype": "text/x-python",
   "name": "python",
   "nbconvert_exporter": "python",
   "pygments_lexer": "ipython3",
   "version": "3.9.13"
  }
 },
 "nbformat": 4,
 "nbformat_minor": 5
}
