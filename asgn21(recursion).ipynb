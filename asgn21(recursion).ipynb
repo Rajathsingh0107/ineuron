{
 "cells": [
  {
   "cell_type": "code",
   "execution_count": 5,
   "id": "9da518b9",
   "metadata": {},
   "outputs": [
    {
     "name": "stdout",
     "output_type": "stream",
     "text": [
      "enter number:5\n",
      "1\n",
      "2\n",
      "3\n",
      "4\n",
      "5\n"
     ]
    }
   ],
   "source": [
    "\"\"\"Write a recursive python function to print first N natural numbers.\"\"\"\n",
    "n=int(input(\"enter number:\"))\n",
    "def f1(n):\n",
    "    if n>0:\n",
    "        f1(n-1)\n",
    "        print(n) \n",
    "        \n",
    "f1(n)"
   ]
  },
  {
   "cell_type": "code",
   "execution_count": 3,
   "id": "d3c13d98",
   "metadata": {},
   "outputs": [
    {
     "name": "stdout",
     "output_type": "stream",
     "text": [
      "enter number:5\n",
      "5\n",
      "4\n",
      "3\n",
      "2\n",
      "1\n"
     ]
    }
   ],
   "source": [
    "\"\"\"Write a recursive python function to print first N natural numbers in reverse order\"\"\"\n",
    "n=int(input(\"enter number:\"))\n",
    "def f1(n):\n",
    "    if n>0:\n",
    "        print(n) \n",
    "        f1(n-1)\n",
    "f1(n)"
   ]
  },
  {
   "cell_type": "code",
   "execution_count": 9,
   "id": "f6938f1a",
   "metadata": {},
   "outputs": [
    {
     "name": "stdout",
     "output_type": "stream",
     "text": [
      "enter number:9\n",
      "1\n",
      "3\n",
      "5\n",
      "7\n",
      "9\n"
     ]
    }
   ],
   "source": [
    "\"\"\"Write a recursive python function to print first N odd natural numbers\"\"\"\n",
    "n=int(input(\"enter number:\"))\n",
    "def f1(n):\n",
    "    if n>0:\n",
    "        f1(n-1)\n",
    "        if n%2!=0:\n",
    "            print(n) \n",
    "        \n",
    "f1(n)"
   ]
  },
  {
   "cell_type": "code",
   "execution_count": 13,
   "id": "02fffe7f",
   "metadata": {},
   "outputs": [
    {
     "name": "stdout",
     "output_type": "stream",
     "text": [
      "enter number:9\n",
      "9\n",
      "7\n",
      "5\n",
      "3\n",
      "1\n"
     ]
    }
   ],
   "source": [
    "\"\"\"Write a recursive python function to print first N odd natural numbers in reverse order\"\"\"\n",
    "n=int(input(\"enter number:\"))\n",
    "def f1(n):\n",
    "    if n>0:\n",
    "        if n%2!=0:\n",
    "            print(n)\n",
    "        f1(n-1) \n",
    "        \n",
    "f1(n)"
   ]
  },
  {
   "cell_type": "code",
   "execution_count": 16,
   "id": "a1c46c26",
   "metadata": {},
   "outputs": [
    {
     "name": "stdout",
     "output_type": "stream",
     "text": [
      "enter num:5\n",
      "2\n",
      "4\n"
     ]
    }
   ],
   "source": [
    "\"\"\"Write a recursive python function to print first N even natural numbers.\"\"\"\n",
    "n=int(input(\"enter num:\"))\n",
    "def f1(n):\n",
    "    if n>0:\n",
    "        f1(n-1)\n",
    "        if n%2==0:\n",
    "            print(n)\n",
    "        \n",
    "f1(n)\n",
    "    "
   ]
  },
  {
   "cell_type": "code",
   "execution_count": 18,
   "id": "5552fd94",
   "metadata": {},
   "outputs": [
    {
     "name": "stdout",
     "output_type": "stream",
     "text": [
      "enter num:9\n",
      "8\n",
      "6\n",
      "4\n",
      "2\n"
     ]
    }
   ],
   "source": [
    "\"\"\"Write a recursive python function to print first N even natural numbers in reverse\n",
    "order.\"\"\"\n",
    "n=int(input(\"enter num:\"))\n",
    "def f1(n):\n",
    "    if n>0:\n",
    "        if n%2==0:\n",
    "            print(n)\n",
    "        f1(n-1)\n",
    "f1(n)\n",
    "\n",
    "\n"
   ]
  },
  {
   "cell_type": "code",
   "execution_count": 12,
   "id": "487b54ff",
   "metadata": {},
   "outputs": [
    {
     "name": "stdout",
     "output_type": "stream",
     "text": [
      "enter number:3\n",
      "1\n",
      "4\n",
      "9\n"
     ]
    }
   ],
   "source": [
    "\"\"\"Write a recursive python function to print squares of first N natural numbers\"\"\"\n",
    "n=int(input(\"enter number:\"))\n",
    "def f1(n):\n",
    "    if n>0:\n",
    "        f1(n-1)\n",
    "        c=n\n",
    "        d=c*c\n",
    "        print(d)\n",
    "f1(n)"
   ]
  },
  {
   "cell_type": "code",
   "execution_count": 13,
   "id": "36613f13",
   "metadata": {},
   "outputs": [
    {
     "name": "stdout",
     "output_type": "stream",
     "text": [
      "enter range:5\n",
      "1\n",
      "8\n",
      "27\n",
      "64\n",
      "125\n"
     ]
    }
   ],
   "source": [
    "\"\"\"Write a recursive python function to print cubes of first N natural numbers\"\"\"\n",
    "a=int(input(\"enter range:\"))\n",
    "def f1(a):\n",
    "    if a>0:\n",
    "        f1(a-1)\n",
    "        b=a\n",
    "        c=b*b*b\n",
    "        print(c)\n",
    "f1(a)\n",
    "        "
   ]
  },
  {
   "cell_type": "code",
   "execution_count": 6,
   "id": "73f2f1d5",
   "metadata": {},
   "outputs": [
    {
     "name": "stdout",
     "output_type": "stream",
     "text": [
      "enter number:5\n",
      "5\n",
      "10\n",
      "15\n",
      "20\n",
      "25\n",
      "enter number:5\n",
      "enter range:3\n",
      "5\n",
      "10\n",
      "15\n"
     ]
    }
   ],
   "source": [
    "\"\"\"Write a recursive python function to print first N multiples of a given number.\"\"\"\n",
    "#method1\n",
    "n=int(input(\"enter number:\"))\n",
    "a=n\n",
    "def f1(n):\n",
    "    if n>0:\n",
    "        f1(n-1)\n",
    "        r=n\n",
    "        print(a*r)\n",
    "f1(n)\n",
    "\n",
    "#method2\n",
    "n=int(input(\"enter number:\"))\n",
    "r=int(input(\"enter range:\"))\n",
    "def f1(r):\n",
    "    if r>0:\n",
    "        f1(r-1)\n",
    "        print(n*r)\n",
    "f1(r)"
   ]
  },
  {
   "cell_type": "code",
   "execution_count": 7,
   "id": "70c2cca1",
   "metadata": {},
   "outputs": [
    {
     "name": "stdout",
     "output_type": "stream",
     "text": [
      "enter num:546\n",
      "645\n"
     ]
    }
   ],
   "source": [
    "\"\"\"Write a recursive python function to print a number in reverse order.\"\"\"\n",
    "def a(s,n):\n",
    "    if n==0:\n",
    "        print(s[0])\n",
    "    else:\n",
    "        print(s[n],end='')\n",
    "        a(s,n-1)\n",
    "s=input(\"enter num:\")\n",
    "a(s,len(s)-1)    "
   ]
  },
  {
   "cell_type": "raw",
   "id": "0c7f47c0",
   "metadata": {},
   "source": []
  }
 ],
 "metadata": {
  "kernelspec": {
   "display_name": "Python 3 (ipykernel)",
   "language": "python",
   "name": "python3"
  },
  "language_info": {
   "codemirror_mode": {
    "name": "ipython",
    "version": 3
   },
   "file_extension": ".py",
   "mimetype": "text/x-python",
   "name": "python",
   "nbconvert_exporter": "python",
   "pygments_lexer": "ipython3",
   "version": "3.9.13"
  }
 },
 "nbformat": 4,
 "nbformat_minor": 5
}
