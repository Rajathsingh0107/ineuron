{
 "cells": [
  {
   "cell_type": "code",
   "execution_count": 2,
   "id": "85bea158",
   "metadata": {},
   "outputs": [
    {
     "name": "stdout",
     "output_type": "stream",
     "text": [
      "“MySirG”\n",
      "“MySirG”\n",
      "“MySirG”\n",
      "“MySirG”\n"
     ]
    }
   ],
   "source": [
    "\"\"\"Write a python program to create a simple function which prints “MySirG” .\"\"\"\n",
    "#method1\n",
    "def f1():\n",
    "    print(\"“MySirG”\")\n",
    "f1()\n",
    "\n",
    "#method2\n",
    "def f1(a):\n",
    "    print(c)\n",
    "c=\"“MySirG”\"\n",
    "f1(c)\n",
    "\n",
    "#method3\n",
    "def f1():\n",
    "    c=\"“MySirG”\"\n",
    "    return(c)\n",
    "a=f1()\n",
    "print(a)\n",
    "\n",
    "#method4\n",
    "def f1(a):\n",
    "    return c\n",
    "c=\"“MySirG”\"\n",
    "a=f1(c)\n",
    "print(a)\n",
    "# b=f1(a)\n",
    "# print(b)"
   ]
  },
  {
   "cell_type": "code",
   "execution_count": 3,
   "id": "899010b6",
   "metadata": {},
   "outputs": [
    {
     "name": "stdout",
     "output_type": "stream",
     "text": [
      "hi hello\n"
     ]
    },
    {
     "data": {
      "text/plain": [
       "('hi', 'hello')"
      ]
     },
     "execution_count": 3,
     "metadata": {},
     "output_type": "execute_result"
    }
   ],
   "source": [
    "\"\"\" Write a python program to create a function which expects two arguments and print\n",
    "them in the function body.\"\"\"\n",
    "#method1\n",
    "def f1(a,b):\n",
    "    print(a,b)\n",
    "c=\"hi\"\n",
    "d=\"hello\"\n",
    "f1(c,d)\n",
    "\n",
    "#method2\n",
    "def f1(a,b):\n",
    "    return(c,d)\n",
    "c=\"hi\"\n",
    "d=\"hello\"\n",
    "f1(c,d)\n",
    "\n",
    "\n"
   ]
  },
  {
   "cell_type": "code",
   "execution_count": 4,
   "id": "ab125ebe",
   "metadata": {},
   "outputs": [
    {
     "name": "stdout",
     "output_type": "stream",
     "text": [
      "6.0\n",
      "5.666666666666667\n"
     ]
    }
   ],
   "source": [
    "\"\"\"Write a python program to create a function which expects an unknown number of\n",
    "arguments.\"\"\"\n",
    "def avg(*t):\n",
    "    avg=sum(t)/len(t)\n",
    "    return avg\n",
    "print(avg(5,6,7))\n",
    "\n",
    "def avg(*t):\n",
    "    avg=sum(t)/len(t)\n",
    "    c=print(avg)\n",
    "d=avg(5,6,6)\n",
    "\n"
   ]
  },
  {
   "cell_type": "code",
   "execution_count": 1,
   "id": "d8a2cad4",
   "metadata": {},
   "outputs": [
    {
     "name": "stdout",
     "output_type": "stream",
     "text": [
      "num:2\n",
      "10\n"
     ]
    }
   ],
   "source": [
    "\"\"\"Write a python program to create a function which expects kwargs arguments.\"\"\"\n",
    "a=int(input(\"num:\"))\n",
    "def f1(a,b=5):\n",
    "    mul=a*b\n",
    "    print(mul)\n",
    "f1(a)"
   ]
  },
  {
   "cell_type": "code",
   "execution_count": 14,
   "id": "5d92a47a",
   "metadata": {},
   "outputs": [
    {
     "name": "stdout",
     "output_type": "stream",
     "text": [
      "enter list as argument\n"
     ]
    }
   ],
   "source": [
    "\"\"\"Write a python program to create a function which expects a list as an argument.\"\"\"\n",
    "def f1(a):\n",
    "    b=type(a)\n",
    "    if type(a)==list:\n",
    "        print(\"its datatype is list \")\n",
    "    else:\n",
    "        print(\"enter list as argument\")\n",
    "f1((2,3))"
   ]
  },
  {
   "cell_type": "code",
   "execution_count": 3,
   "id": "2cbb206a",
   "metadata": {},
   "outputs": [
    {
     "name": "stdout",
     "output_type": "stream",
     "text": [
      "8\n"
     ]
    }
   ],
   "source": [
    "\"\"\"Write a python program to create a function that finds a maximum of four numbers.\"\"\"\n",
    "def ma(*t):\n",
    "    ma=max(t)\n",
    "    c=print(ma)\n",
    "d=ma(5,6,7,8)\n",
    "\n",
    "\n",
    "\n",
    "    "
   ]
  },
  {
   "cell_type": "code",
   "execution_count": null,
   "id": "8be2cc3f",
   "metadata": {},
   "outputs": [],
   "source": [
    "\"\"\"Write a python program to sum all the numbers in a list.\n",
    "\"\"\"\n",
    "l1=[2,3,4]\n",
    "def f1(a):\n",
    "    b=tuple(l1)\n",
    "    c=sum(b)\n",
    "    print(c)\n",
    "f1(l1)\n"
   ]
  },
  {
   "cell_type": "code",
   "execution_count": 40,
   "id": "e8bafe9d",
   "metadata": {},
   "outputs": [
    {
     "name": "stdout",
     "output_type": "stream",
     "text": [
      "12\n"
     ]
    }
   ],
   "source": [
    "\"\"\"Write a python program to multiply all the numbers in a list.\n",
    "\"\"\"\n",
    "l1=[2,3,2]\n",
    "def f1(a):\n",
    "    c=1\n",
    "    for i in l1:\n",
    "        c=c*i\n",
    "    print(c)\n",
    "f1(l1)"
   ]
  },
  {
   "cell_type": "code",
   "execution_count": 33,
   "id": "600999cd",
   "metadata": {},
   "outputs": [
    {
     "name": "stdout",
     "output_type": "stream",
     "text": [
      "num:5\n",
      "enter range3\n",
      "no\n"
     ]
    }
   ],
   "source": [
    "\"\"\"Write a python program to create a function to check whether a number falls in a\n",
    "given range.\n",
    "\"\"\"\n",
    "a=int(input(\"num:\"))\n",
    "b=int(input(\"enter range\"))\n",
    "def f1(a,b):\n",
    "    l=[]\n",
    "    for i in range(b):\n",
    "        l.append(i)\n",
    "    if a in l:\n",
    "        print(\"yes\")\n",
    "    else:\n",
    "        print(\"no\")\n",
    "f1(a,b)\n",
    "        \n",
    "    \n",
    "    "
   ]
  },
  {
   "cell_type": "code",
   "execution_count": 36,
   "id": "81334a0a",
   "metadata": {},
   "outputs": [
    {
     "name": "stdout",
     "output_type": "stream",
     "text": [
      "num5\n",
      "odd\n"
     ]
    }
   ],
   "source": [
    "\"\"\"Write a python program to create a function to check whether a given number is even\n",
    "or odd.\"\"\"\n",
    "a=int(input(\"num\"))\n",
    "def e(a):\n",
    "    if a%2==0:\n",
    "        print(\"even\")\n",
    "    else:\n",
    "        print(\"odd\")\n",
    "e(a)"
   ]
  },
  {
   "cell_type": "code",
   "execution_count": null,
   "id": "eae3efd4",
   "metadata": {},
   "outputs": [],
   "source": []
  }
 ],
 "metadata": {
  "kernelspec": {
   "display_name": "Python 3 (ipykernel)",
   "language": "python",
   "name": "python3"
  },
  "language_info": {
   "codemirror_mode": {
    "name": "ipython",
    "version": 3
   },
   "file_extension": ".py",
   "mimetype": "text/x-python",
   "name": "python",
   "nbconvert_exporter": "python",
   "pygments_lexer": "ipython3",
   "version": "3.9.13"
  }
 },
 "nbformat": 4,
 "nbformat_minor": 5
}
