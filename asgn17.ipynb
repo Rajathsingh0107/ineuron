{
 "cells": [
  {
   "cell_type": "code",
   "execution_count": 2,
   "id": "51011336",
   "metadata": {},
   "outputs": [
    {
     "name": "stdout",
     "output_type": "stream",
     "text": [
      "<class 'set'>\n"
     ]
    }
   ],
   "source": [
    "\"Write a python program to store all the programming languages known to you using Set.\"\n",
    "a={\"python\",\"java\",\"c\",\"c++\"}\n",
    "print(type(a))\n"
   ]
  },
  {
   "cell_type": "code",
   "execution_count": 3,
   "id": "b3beb223",
   "metadata": {},
   "outputs": [
    {
     "name": "stdout",
     "output_type": "stream",
     "text": [
      "<class 'set'>\n"
     ]
    }
   ],
   "source": [
    "\"Write a python program to store your own information {name, age, gender, so on..}\"\n",
    "#method1\n",
    "a={\"raj\",\"21\",\"male\"}\n",
    "print(type(a))\n",
    "\n",
    "#method2\n",
    "a=set()\n",
    "b=input(\"name:\")\n",
    "c=input(\"age:\")\n",
    "d=input(\"gender:\")\n",
    "\n",
    "a.add(b)\n",
    "a.add(c)\n",
    "a.add(d)\n",
    "print(a)\n",
    "\n",
    "#method3\n",
    "a=input(\"enter name,age,gender seperated by comma:\")\n",
    "b={eval(i) for i in s.split(\",\")}\n",
    "print(b)\n"
   ]
  },
  {
   "cell_type": "code",
   "execution_count": 8,
   "id": "020f9694",
   "metadata": {},
   "outputs": [
    {
     "name": "stdout",
     "output_type": "stream",
     "text": [
      "<class 'int'>\n",
      "<class 'str'>\n",
      "<class 'str'>\n"
     ]
    }
   ],
   "source": [
    "\"Write a python script to get the data type of a Set.\"\n",
    "a={\"raj\",21,\"male\"}\n",
    "for i in a:\n",
    "    print(type(i))\n",
    "\n"
   ]
  },
  {
   "cell_type": "code",
   "execution_count": 10,
   "id": "de6bd02c",
   "metadata": {},
   "outputs": [
    {
     "name": "stdout",
     "output_type": "stream",
     "text": [
      "Python is present\n"
     ]
    }
   ],
   "source": [
    "'Write a Python script to find if “Python” is present in the set thisset = {\"Java\",\"Python\", \"Django\"}'\n",
    "thisset = {\"Java\",\"Python\", \"Django\"}\n",
    "for i in thisset:\n",
    "    if i==\"Python\":\n",
    "        print(\"Python is present\")\n"
   ]
  },
  {
   "cell_type": "code",
   "execution_count": 14,
   "id": "02a62856",
   "metadata": {},
   "outputs": [
    {
     "name": "stdout",
     "output_type": "stream",
     "text": [
      "{'Java', 'NoSQL', 'C', 'Cpp', 'Python', 'SQL'}\n"
     ]
    }
   ],
   "source": [
    "\"\"\"Write a python program to add items from another set to the current set. thisset =\n",
    "{\"Java\", \"Python\", \"SQL\"}secondset= {\"C\", \"Cpp\", \"NoSQL\"}\"\"\"\n",
    "\n",
    "thisset ={\"Java\", \"Python\", \"SQL\"}\n",
    "secondset= {\"C\", \"Cpp\", \"NoSQL\"}\n",
    "a=thisset.union(secondset)\n",
    "print(a)"
   ]
  },
  {
   "cell_type": "code",
   "execution_count": 24,
   "id": "7ca962a2",
   "metadata": {},
   "outputs": [
    {
     "name": "stdout",
     "output_type": "stream",
     "text": [
      "{'Java', 'C', 'Django', 'Python', 'JavaScript'}\n",
      "{'JavaScript', 'J', 'C', 'Django', 'Python', 'v', 'a'}\n"
     ]
    }
   ],
   "source": [
    "\"\"\"Write a python program to add elements of list to a set\n",
    "thisset = {\"Python\", \"Django\", \"JavaScript\"}\n",
    "mylist = [\"Java\", \"C\"]\"\"\"\n",
    "#method1\n",
    "thisset = {\"Python\", \"Django\", \"JavaScript\"}\n",
    "mylist = [\"Java\", \"C\"]\n",
    "a=set(mylist)\n",
    "b=a.union(thisset)\n",
    "print(b)\n",
    "\n",
    "#method2\n",
    "thisset = {\"Python\", \"Django\", \"JavaScript\"}\n",
    "mylist = [\"Java\", \"C\"]\n",
    "a=set(mylist)\n",
    "for i in a:\n",
    "    thisset.update(i)\n",
    "print(thisset)\n"
   ]
  },
  {
   "cell_type": "code",
   "execution_count": 30,
   "id": "a2cf3d99",
   "metadata": {},
   "outputs": [
    {
     "name": "stdout",
     "output_type": "stream",
     "text": [
      "{'Python', 'JavaScript', 'Django'}\n"
     ]
    }
   ],
   "source": [
    "\"\"\"Write a python program to remove last item of the given set\n",
    "thisset = {\"Python\", \"Django\", \"JavaScript\", “SQL”}\"\"\"\n",
    "thisset = {\"Python\", \"Django\", \"JavaScript\",\"“SQL”\"}\n",
    "a=thisset.remove(\"“SQL”\")\n",
    "print(thisset)\n",
    "\n"
   ]
  },
  {
   "cell_type": "code",
   "execution_count": 36,
   "id": "784397d3",
   "metadata": {},
   "outputs": [
    {
     "name": "stdout",
     "output_type": "stream",
     "text": [
      "set()\n"
     ]
    }
   ],
   "source": [
    "\"Write a python program to delete the set completely.\"\n",
    "thisset ={\"Java\", \"Python\", \"SQL\"}\n",
    "thisset.clear()\n",
    "print(thisset)"
   ]
  },
  {
   "cell_type": "code",
   "execution_count": 37,
   "id": "ea80aa03",
   "metadata": {},
   "outputs": [
    {
     "name": "stdout",
     "output_type": "stream",
     "text": [
      "Python\n",
      "“SQL”\n",
      "JavaScript\n",
      "Django\n"
     ]
    }
   ],
   "source": [
    "\"\"\"Write a python program to loop through the set and print values\n",
    "thisset = {\"Python\", \"Django\", \"JavaScript\", “SQL”}\"\"\"\n",
    "thisset = {\"Python\", \"Django\", \"JavaScript\", \"“SQL”\"}\n",
    "for i in thisset:\n",
    "    print(i)\n",
    "    "
   ]
  },
  {
   "cell_type": "code",
   "execution_count": 41,
   "id": "b9322fbe",
   "metadata": {},
   "outputs": [
    {
     "name": "stdout",
     "output_type": "stream",
     "text": [
      "max value is: 6\n",
      "min valuse is 4\n"
     ]
    }
   ],
   "source": [
    "\"Write a python program to find the maximum and minimum value in a set.\"\n",
    "a={4,5,6}\n",
    "b=max(a)\n",
    "c=min(a)\n",
    "print(\"max value is:\",b)\n",
    "print(\"min valuse is\",c)"
   ]
  },
  {
   "cell_type": "code",
   "execution_count": null,
   "id": "702c150a",
   "metadata": {},
   "outputs": [],
   "source": []
  }
 ],
 "metadata": {
  "kernelspec": {
   "display_name": "Python 3 (ipykernel)",
   "language": "python",
   "name": "python3"
  },
  "language_info": {
   "codemirror_mode": {
    "name": "ipython",
    "version": 3
   },
   "file_extension": ".py",
   "mimetype": "text/x-python",
   "name": "python",
   "nbconvert_exporter": "python",
   "pygments_lexer": "ipython3",
   "version": "3.9.13"
  }
 },
 "nbformat": 4,
 "nbformat_minor": 5
}
